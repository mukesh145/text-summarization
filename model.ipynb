{
 "cells": [
  {
   "cell_type": "code",
   "execution_count": null,
   "metadata": {},
   "outputs": [],
   "source": [
    "#import the dataset\n",
    "from transformers import pipeline, AutoTokenizer, AutoModelForSeq2SeqLM\n",
    "from datasets import load_dataset\n",
    "import pandas as pd"
   ]
  },
  {
   "cell_type": "code",
   "execution_count": null,
   "metadata": {},
   "outputs": [],
   "source": [
    "# Load pre-trained model\n",
    "model_name = \"facebook/bart-large-cnn\"\n",
    "tokenizer = AutoTokenizer.from_pretrained(model_name)\n",
    "model = AutoModelForSeq2SeqLM.from_pretrained(model_name)"
   ]
  },
  {
   "cell_type": "code",
   "execution_count": null,
   "metadata": {},
   "outputs": [],
   "source": [
    "tokenizer = AutoTokenizer.from_pretrained('my_model_directory')\n",
    "model = AutoModelForSeq2SeqLM.from_pretrained('my_model_directory')"
   ]
  },
  {
   "cell_type": "code",
   "execution_count": null,
   "metadata": {},
   "outputs": [],
   "source": [
    "\n",
    "train_dataset= pd.read_csv('data.csv')"
   ]
  },
  {
   "cell_type": "code",
   "execution_count": null,
   "metadata": {},
   "outputs": [],
   "source": [
    "# Define fine-tuning function\n",
    "def fine_tune(model, train_dataset):\n",
    "    summarizer = pipeline(\"summarization\", model=model, tokenizer=tokenizer)\n",
    "\n",
    "    # Prepare dataset for fine-tuning\n",
    "    train_dataset = [{'article': row['text'], 'summary': row['summary']} for _, row in train_dataset.iterrows()]\n",
    "    # Fine-tune the model\n",
    "    model = summarizer.model\n",
    "    model.train()\n",
    "    for epoch in range(3):\n",
    "        for batch in train_dataset:\n",
    "            model.generate(input_ids=tokenizer.encode(batch['article'], return_tensors='pt'), max_length=100, min_length=30)\n",
    "\n",
    "    # Return fine-tuned model\n",
    "    return summarizer.model"
   ]
  },
  {
   "cell_type": "code",
   "execution_count": null,
   "metadata": {},
   "outputs": [],
   "source": [
    "# Fine-tune the model\n",
    "fine_tuned_model = fine_tune(model, train_dataset)"
   ]
  },
  {
   "cell_type": "code",
   "execution_count": null,
   "metadata": {},
   "outputs": [],
   "source": [
    "# Use the fine-tuned model for summarization\n",
    "summarizer = pipeline(\"summarization\", model=fine_tuned_model, tokenizer=tokenizer)"
   ]
  },
  {
   "cell_type": "code",
   "execution_count": null,
   "metadata": {},
   "outputs": [],
   "source": [
    "text = \"Nagpur Police received a call claiming 25 armed men were outside 'Taarak Mehta Ka Ooltah Chashmah' actor Dilip Joshi's house. It's the same call where caller warned about bombs at Mukesh Ambani, Amitabh Bachchan and Dharmendra's residences. The number belongs to a boy working in SIM card company. His number was spoofed and police are looking for the real caller.\"\n",
    "\n",
    "summary = summarizer(text, max_length=50, min_length=20, do_sample=False)\n",
    "\n",
    "print(summary[0]['summary_text'])"
   ]
  },
  {
   "cell_type": "code",
   "execution_count": null,
   "metadata": {},
   "outputs": [],
   "source": [
    "# Save the fine-tuned model and tokenizer\n",
    "fine_tuned_model.save_pretrained('my_model_directory')\n",
    "tokenizer.save_pretrained('my_model_directory')"
   ]
  }
 ],
 "metadata": {
  "kernelspec": {
   "display_name": "Python 3",
   "language": "python",
   "name": "python3"
  },
  "language_info": {
   "codemirror_mode": {
    "name": "ipython",
    "version": 3
   },
   "file_extension": ".py",
   "mimetype": "text/x-python",
   "name": "python",
   "nbconvert_exporter": "python",
   "pygments_lexer": "ipython3",
   "version": "3.11.2"
  },
  "orig_nbformat": 4
 },
 "nbformat": 4,
 "nbformat_minor": 2
}
